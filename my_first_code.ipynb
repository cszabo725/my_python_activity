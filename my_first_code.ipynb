{
 "cells": [
  {
   "cell_type": "code",
   "execution_count": 2,
   "id": "06dc399d",
   "metadata": {},
   "outputs": [
    {
     "name": "stdout",
     "output_type": "stream",
     "text": [
      "My Name is Carl\n",
      "The date is June 5th 2022\n",
      "182900\n",
      "36580.0\n",
      "60500\n"
     ]
    }
   ],
   "source": [
    "# this is my first line of code\n",
    "print(\"My Name is Carl\")\n",
    "print(\"The date is June 5th 2022\")\n",
    "\n",
    "# write a program to analyse real estate data\n",
    "a = 45000\n",
    "b = 23400\n",
    "c = 67000\n",
    "d = 34600\n",
    "e = 12900\n",
    "\n",
    "# print total sales from December \n",
    "total = a + b + c + d + e\n",
    "print(total)\n",
    "\n",
    "# print average sales price for December \n",
    "print (total / 5)\n",
    "\n",
    "# print property price for property C\n",
    "print(c - 6500)"
   ]
  },
  {
   "cell_type": "code",
   "execution_count": null,
   "id": "7519efaf",
   "metadata": {},
   "outputs": [],
   "source": []
  }
 ],
 "metadata": {
  "kernelspec": {
   "display_name": "Python 3 (ipykernel)",
   "language": "python",
   "name": "python3"
  },
  "language_info": {
   "codemirror_mode": {
    "name": "ipython",
    "version": 3
   },
   "file_extension": ".py",
   "mimetype": "text/x-python",
   "name": "python",
   "nbconvert_exporter": "python",
   "pygments_lexer": "ipython3",
   "version": "3.9.12"
  }
 },
 "nbformat": 4,
 "nbformat_minor": 5
}
